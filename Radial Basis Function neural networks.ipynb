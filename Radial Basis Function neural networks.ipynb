{
 "cells": [
  {
   "cell_type": "code",
   "execution_count": 1,
   "metadata": {},
   "outputs": [],
   "source": [
    "import numpy as np\n",
    "import pandas as pd\n",
    "import matplotlib.pyplot as plt\n",
    "from scipy.io import arff\n",
    "from sklearn.model_selection import train_test_split\n",
    "from sklearn.cluster import KMeans\n",
    "from scipy.spatial.distance import cdist\n",
    "from sklearn.linear_model import LogisticRegression\n",
    "from sklearn.preprocessing import MinMaxScaler\n",
    "from scipy.stats import multivariate_normal\n",
    "from scipy import stats\n",
    "from sklearn.mixture import GaussianMixture\n",
    "from sklearn import svm\n",
    "from sklearn.naive_bayes import GaussianNB\n",
    "from sklearn.metrics import accuracy_score, classification_report"
   ]
  },
  {
   "cell_type": "code",
   "execution_count": 2,
   "metadata": {},
   "outputs": [
    {
     "data": {
      "text/html": [
       "<div>\n",
       "<style scoped>\n",
       "    .dataframe tbody tr th:only-of-type {\n",
       "        vertical-align: middle;\n",
       "    }\n",
       "\n",
       "    .dataframe tbody tr th {\n",
       "        vertical-align: top;\n",
       "    }\n",
       "\n",
       "    .dataframe thead th {\n",
       "        text-align: right;\n",
       "    }\n",
       "</style>\n",
       "<table border=\"1\" class=\"dataframe\">\n",
       "  <thead>\n",
       "    <tr style=\"text-align: right;\">\n",
       "      <th></th>\n",
       "      <th>AF3</th>\n",
       "      <th>F7</th>\n",
       "      <th>F3</th>\n",
       "      <th>FC5</th>\n",
       "      <th>T7</th>\n",
       "      <th>P7</th>\n",
       "      <th>O1</th>\n",
       "      <th>O2</th>\n",
       "      <th>P8</th>\n",
       "      <th>T8</th>\n",
       "      <th>FC6</th>\n",
       "      <th>F4</th>\n",
       "      <th>F8</th>\n",
       "      <th>AF4</th>\n",
       "      <th>eyeDetection</th>\n",
       "    </tr>\n",
       "  </thead>\n",
       "  <tbody>\n",
       "    <tr>\n",
       "      <th>0</th>\n",
       "      <td>4329.23</td>\n",
       "      <td>4009.23</td>\n",
       "      <td>4289.23</td>\n",
       "      <td>4148.21</td>\n",
       "      <td>4350.26</td>\n",
       "      <td>4586.15</td>\n",
       "      <td>4096.92</td>\n",
       "      <td>4641.03</td>\n",
       "      <td>4222.05</td>\n",
       "      <td>4238.46</td>\n",
       "      <td>4211.28</td>\n",
       "      <td>4280.51</td>\n",
       "      <td>4635.90</td>\n",
       "      <td>4393.85</td>\n",
       "      <td>0</td>\n",
       "    </tr>\n",
       "    <tr>\n",
       "      <th>1</th>\n",
       "      <td>4324.62</td>\n",
       "      <td>4004.62</td>\n",
       "      <td>4293.85</td>\n",
       "      <td>4148.72</td>\n",
       "      <td>4342.05</td>\n",
       "      <td>4586.67</td>\n",
       "      <td>4097.44</td>\n",
       "      <td>4638.97</td>\n",
       "      <td>4210.77</td>\n",
       "      <td>4226.67</td>\n",
       "      <td>4207.69</td>\n",
       "      <td>4279.49</td>\n",
       "      <td>4632.82</td>\n",
       "      <td>4384.10</td>\n",
       "      <td>0</td>\n",
       "    </tr>\n",
       "    <tr>\n",
       "      <th>2</th>\n",
       "      <td>4327.69</td>\n",
       "      <td>4006.67</td>\n",
       "      <td>4295.38</td>\n",
       "      <td>4156.41</td>\n",
       "      <td>4336.92</td>\n",
       "      <td>4583.59</td>\n",
       "      <td>4096.92</td>\n",
       "      <td>4630.26</td>\n",
       "      <td>4207.69</td>\n",
       "      <td>4222.05</td>\n",
       "      <td>4206.67</td>\n",
       "      <td>4282.05</td>\n",
       "      <td>4628.72</td>\n",
       "      <td>4389.23</td>\n",
       "      <td>0</td>\n",
       "    </tr>\n",
       "    <tr>\n",
       "      <th>3</th>\n",
       "      <td>4328.72</td>\n",
       "      <td>4011.79</td>\n",
       "      <td>4296.41</td>\n",
       "      <td>4155.90</td>\n",
       "      <td>4343.59</td>\n",
       "      <td>4582.56</td>\n",
       "      <td>4097.44</td>\n",
       "      <td>4630.77</td>\n",
       "      <td>4217.44</td>\n",
       "      <td>4235.38</td>\n",
       "      <td>4210.77</td>\n",
       "      <td>4287.69</td>\n",
       "      <td>4632.31</td>\n",
       "      <td>4396.41</td>\n",
       "      <td>0</td>\n",
       "    </tr>\n",
       "    <tr>\n",
       "      <th>4</th>\n",
       "      <td>4326.15</td>\n",
       "      <td>4011.79</td>\n",
       "      <td>4292.31</td>\n",
       "      <td>4151.28</td>\n",
       "      <td>4347.69</td>\n",
       "      <td>4586.67</td>\n",
       "      <td>4095.90</td>\n",
       "      <td>4627.69</td>\n",
       "      <td>4210.77</td>\n",
       "      <td>4244.10</td>\n",
       "      <td>4212.82</td>\n",
       "      <td>4288.21</td>\n",
       "      <td>4632.82</td>\n",
       "      <td>4398.46</td>\n",
       "      <td>0</td>\n",
       "    </tr>\n",
       "  </tbody>\n",
       "</table>\n",
       "</div>"
      ],
      "text/plain": [
       "       AF3       F7       F3      FC5       T7       P7       O1       O2  \\\n",
       "0  4329.23  4009.23  4289.23  4148.21  4350.26  4586.15  4096.92  4641.03   \n",
       "1  4324.62  4004.62  4293.85  4148.72  4342.05  4586.67  4097.44  4638.97   \n",
       "2  4327.69  4006.67  4295.38  4156.41  4336.92  4583.59  4096.92  4630.26   \n",
       "3  4328.72  4011.79  4296.41  4155.90  4343.59  4582.56  4097.44  4630.77   \n",
       "4  4326.15  4011.79  4292.31  4151.28  4347.69  4586.67  4095.90  4627.69   \n",
       "\n",
       "        P8       T8      FC6       F4       F8      AF4  eyeDetection  \n",
       "0  4222.05  4238.46  4211.28  4280.51  4635.90  4393.85             0  \n",
       "1  4210.77  4226.67  4207.69  4279.49  4632.82  4384.10             0  \n",
       "2  4207.69  4222.05  4206.67  4282.05  4628.72  4389.23             0  \n",
       "3  4217.44  4235.38  4210.77  4287.69  4632.31  4396.41             0  \n",
       "4  4210.77  4244.10  4212.82  4288.21  4632.82  4398.46             0  "
      ]
     },
     "execution_count": 2,
     "metadata": {},
     "output_type": "execute_result"
    }
   ],
   "source": [
    "# Load ARFF file\n",
    "data, meta = arff.loadarff('EEG Eye State.arff')\n",
    "\n",
    "# Convert to Pandas DataFrame\n",
    "df = pd.DataFrame(data)\n",
    "df['eyeDetection']=df['eyeDetection'].astype(int)\n",
    "# Display the DataFrame\n",
    "df.head()"
   ]
  },
  {
   "cell_type": "code",
   "execution_count": 3,
   "metadata": {},
   "outputs": [],
   "source": [
    "X=df[df.columns[:-1]].values\n",
    "Y=df[df.columns[-1]].values\n",
    "X=MinMaxScaler().fit_transform(X)"
   ]
  },
  {
   "cell_type": "code",
   "execution_count": 4,
   "metadata": {},
   "outputs": [],
   "source": [
    "X_train,X_test,Y_train,Y_test=train_test_split(X,Y,test_size=0.35,random_state=42,stratify=Y)"
   ]
  },
  {
   "cell_type": "code",
   "execution_count": 5,
   "metadata": {},
   "outputs": [
    {
     "data": {
      "text/plain": [
       "(9737, 5243)"
      ]
     },
     "execution_count": 5,
     "metadata": {},
     "output_type": "execute_result"
    }
   ],
   "source": [
    "len(X_train),len(X_test)"
   ]
  },
  {
   "cell_type": "code",
   "execution_count": 6,
   "metadata": {},
   "outputs": [
    {
     "data": {
      "text/plain": [
       "(9737, 14)"
      ]
     },
     "execution_count": 6,
     "metadata": {},
     "output_type": "execute_result"
    }
   ],
   "source": [
    "X_train.shape"
   ]
  },
  {
   "cell_type": "code",
   "execution_count": 7,
   "metadata": {},
   "outputs": [],
   "source": [
    "def k_means(X, k, max_iters=300, tol=1e-4,kmeanspp=True):\n",
    "    n_samples, n_features = X.shape\n",
    "    if kmeanspp:\n",
    "        centroids = [X[np.random.choice(n_samples)]]\n",
    "        for _ in range(1, k):\n",
    "            distances = np.array([min(np.linalg.norm(x - c)**2 for c in centroids) for x in X])\n",
    "            probabilities = distances / np.sum(distances)\n",
    "            next_centroid = X[np.random.choice(n_samples, p=probabilities)]\n",
    "            centroids.append(next_centroid)\n",
    "        centroids=np.array(centroids)\n",
    "    else:\n",
    "        centroids=X[np.random.choice(n_samples,k)]\n",
    "    for _ in range(max_iters):\n",
    "        # Assign each data point to the nearest centroid\n",
    "        distances = np.linalg.norm(X[:, np.newaxis] - centroids, axis=2)\n",
    "        labels = np.argmin(distances, axis=1)\n",
    "\n",
    "        # Update centroids\n",
    "        new_centroids = np.array([X[labels == j].mean(axis=0) for j in range(k)])\n",
    "\n",
    "        # Check for convergence\n",
    "        if np.linalg.norm(new_centroids - centroids) < tol:\n",
    "            break\n",
    "\n",
    "        centroids = new_centroids\n",
    "    # Post-processing: Re-assign points in small clusters to the nearest centroid\n",
    "    for i in range(k):\n",
    "        cluster_points = X[labels == i]\n",
    "        if len(cluster_points) < 10: # If a cluster has less than 10 points, re-assign the points\n",
    "            distances = np.linalg.norm(cluster_points[:, np.newaxis] - centroids, axis=2)\n",
    "            labels[labels == i] = np.argmin(distances, axis=1)\n",
    "\n",
    "    # Compute inertia\n",
    "    inertia = 0.0\n",
    "    for j in range(k):\n",
    "        cluster_points = X[labels == j]\n",
    "        inertia += np.sum(np.linalg.norm(cluster_points - centroids[j], axis=1)**2)\n",
    "\n",
    "    return centroids, labels,inertia"
   ]
  },
  {
   "cell_type": "code",
   "execution_count": 8,
   "metadata": {},
   "outputs": [],
   "source": [
    "np.random.seed(42)\n",
    "data = np.random.random(size=(100,1))\n",
    "y=np.sin(data*2*np.pi)*np.exp(np.sin(data*2*np.pi))+np.random.random(size=((100,1)))\n",
    "data=np.hstack((data,y))"
   ]
  },
  {
   "cell_type": "code",
   "execution_count": 9,
   "metadata": {},
   "outputs": [
    {
     "name": "stdout",
     "output_type": "stream",
     "text": [
      "Final centroids:\n",
      " [[0.24705701 2.82258932]\n",
      " [0.71545882 0.19670427]\n",
      " [0.17853009 1.26339428]]\n",
      "Cluster labels:\n",
      " [2 1 1 1 0 0 2 1 1 1 1 1 1 0 0 0 0 1 2 0 1 0 0 2 1 1 0 2 1 2 1 0 2 1 1 1 0\n",
      " 2 1 2 0 1 2 1 0 1 0 1 1 0 1 1 1 1 1 1 2 0 2 0 2 0 1 0 0 1 2 1 2 1 1 0 2 1\n",
      " 1 1 1 2 0 2 1 1 0 2 0 0 1 1 1 1 2 1 1 1 1 1 1 2 2 2]\n",
      "Final centroids:\n",
      " [[0.24705701 2.82258932]\n",
      " [0.71545882 0.19670427]\n",
      " [0.17853009 1.26339428]]\n",
      "Cluster labels:\n",
      " [2 1 1 1 0 0 2 1 1 1 1 1 1 0 0 0 0 1 2 0 1 0 0 2 1 1 0 2 1 2 1 0 2 1 1 1 0\n",
      " 2 1 2 0 1 2 1 0 1 0 1 1 0 1 1 1 1 1 1 2 0 2 0 2 0 1 0 0 1 2 1 2 1 1 0 2 1\n",
      " 1 1 1 2 0 2 1 1 0 2 0 0 1 1 1 1 2 1 1 1 1 1 1 2 2 2]\n"
     ]
    },
    {
     "name": "stderr",
     "output_type": "stream",
     "text": [
      "/home/abdissad/.local/lib/python3.10/site-packages/sklearn/cluster/_kmeans.py:1412: FutureWarning: The default value of `n_init` will change from 10 to 'auto' in 1.4. Set the value of `n_init` explicitly to suppress the warning\n",
      "  super()._check_params_vs_input(X, default_n_init=10)\n"
     ]
    },
    {
     "data": {
      "text/plain": [
       "<matplotlib.collections.PathCollection at 0x7f5b0abaff70>"
      ]
     },
     "execution_count": 9,
     "metadata": {},
     "output_type": "execute_result"
    },
    {
     "data": {
      "image/png": "[encoded data removed]",
      "text/plain": [
       "<Figure size 1800x864 with 2 Axes>"
      ]
     },
     "metadata": {
      "needs_background": "light"
     },
     "output_type": "display_data"
    }
   ],
   "source": [
    "# Specify the number of clusters\n",
    "num_clusters = 3\n",
    "\n",
    "# Run k-means algorithm\n",
    "centroids, labels,inertia = k_means(data, num_clusters)\n",
    "\n",
    "# Print the final centroids and cluster labels\n",
    "print(\"Final centroids:\\n\", centroids)\n",
    "print(\"Cluster labels:\\n\", labels)\n",
    "figure,[ax1,ax2]=plt.subplots(1,2,figsize=(25,12))\n",
    "ax1.scatter(data[:,0],data[:,1],c=labels)\n",
    "ax1.scatter(centroids[:,0],centroids[:,1],cmap=plt.cm.Blues_r,s=200)\n",
    "kmeans=KMeans(n_clusters=num_clusters).fit(data)\n",
    "centroids, labels=kmeans.cluster_centers_,kmeans.labels_\n",
    "print(\"Final centroids:\\n\", centroids)\n",
    "print(\"Cluster labels:\\n\", labels)\n",
    "ax2.scatter(data[:,0],data[:,1],c=labels,)\n",
    "ax2.scatter(centroids[:,0],centroids[:,1],cmap=plt.cm.Blues_r,s=200)"
   ]
  },
  {
   "cell_type": "code",
   "execution_count": 158,
   "metadata": {},
   "outputs": [
    {
     "data": {
      "text/plain": [
       "(array([[0.01055191, 0.23524589, 0.55018967, 0.00259644, 0.51208623,\n",
       "         0.00512907, 0.00350052, 0.01459089, 0.01072301, 0.49484019,\n",
       "         0.25740824, 0.42347978, 0.02957747, 0.00416419],\n",
       "        [0.01062197, 0.23561327, 0.55258321, 0.00260484, 0.51411441,\n",
       "         0.0051557 , 0.00352642, 0.02166948, 0.0107911 , 0.49890628,\n",
       "         0.26472052, 0.42738971, 0.02975307, 0.00420224],\n",
       "        [0.01085904, 0.24833052, 0.56509142, 0.00270847, 0.52843519,\n",
       "         0.00534483, 0.00362808, 0.04118687, 0.01098984, 0.51089805,\n",
       "         0.28224855, 0.43959008, 0.03018631, 0.00429775],\n",
       "        [0.        , 1.        , 0.80858692, 0.        , 0.        ,\n",
       "         0.        , 0.00264627, 1.        , 0.01221493, 1.        ,\n",
       "         0.53452778, 1.        , 0.        , 0.        ],\n",
       "        [0.01079628, 0.24745706, 0.55488588, 0.00263999, 0.51425671,\n",
       "         0.00513975, 0.00351423, 0.01381609, 0.01074052, 0.49678632,\n",
       "         0.26490186, 0.42889513, 0.02984715, 0.00425621]]),\n",
       " array([1, 1, 4, ..., 0, 0, 4]),\n",
       " 0.8351539101643748)"
      ]
     },
     "execution_count": 158,
     "metadata": {},
     "output_type": "execute_result"
    }
   ],
   "source": [
    "k_means(X_train,k=5)"
   ]
  },
  {
   "cell_type": "code",
   "execution_count": 10,
   "metadata": {},
   "outputs": [
    {
     "name": "stderr",
     "output_type": "stream",
     "text": [
      "/home/abdissad/.local/lib/python3.10/site-packages/sklearn/cluster/_kmeans.py:1412: FutureWarning: The default value of `n_init` will change from 10 to 'auto' in 1.4. Set the value of `n_init` explicitly to suppress the warning\n",
      "  super()._check_params_vs_input(X, default_n_init=10)\n"
     ]
    },
    {
     "data": {
      "text/plain": [
       "array([[0.01062281, 0.23567819, 0.55260479, 0.00260503, 0.51414999,\n",
       "        0.00515593, 0.00352673, 0.02171322, 0.01079155, 0.49893434,\n",
       "        0.26479821, 0.42742245, 0.02975455, 0.00420262],\n",
       "       [0.        , 1.        , 0.80858692, 0.        , 0.        ,\n",
       "        0.        , 0.00264627, 1.        , 0.01221493, 1.        ,\n",
       "        0.53452778, 1.        , 0.        , 0.        ],\n",
       "       [0.01055222, 0.23520498, 0.55019913, 0.00259636, 0.51208309,\n",
       "        0.00512918, 0.00350067, 0.01464745, 0.01072359, 0.49486866,\n",
       "        0.25744418, 0.42350474, 0.02957865, 0.00416441],\n",
       "       [0.0108596 , 0.24832613, 0.5650745 , 0.00270826, 0.52839827,\n",
       "        0.00534416, 0.00362772, 0.04111364, 0.01098924, 0.51088383,\n",
       "        0.2822531 , 0.43958931, 0.03018799, 0.00429819],\n",
       "       [0.01079537, 0.24745595, 0.55488276, 0.00264016, 0.51424096,\n",
       "        0.00513966, 0.00351369, 0.01372389, 0.01073941, 0.49673995,\n",
       "        0.26479795, 0.42884703, 0.02984432, 0.00425564]])"
      ]
     },
     "execution_count": 10,
     "metadata": {},
     "output_type": "execute_result"
    }
   ],
   "source": [
    "KMeans(n_clusters=5,random_state=42).fit(X_train).cluster_centers_"
   ]
  },
  {
   "cell_type": "code",
   "execution_count": 11,
   "metadata": {},
   "outputs": [
    {
     "name": "stdout",
     "output_type": "stream",
     "text": [
      "4\n"
     ]
    },
    {
     "data": {
      "text/plain": [
       "[<matplotlib.lines.Line2D at 0x7f5b0b266e30>]"
      ]
     },
     "execution_count": 11,
     "metadata": {},
     "output_type": "execute_result"
    },
    {
     "data": {
      "image/png": "[encoded data removed]",
      "text/plain": [
       "<Figure size 432x288 with 1 Axes>"
      ]
     },
     "metadata": {
      "needs_background": "light"
     },
     "output_type": "display_data"
    }
   ],
   "source": [
    "K=int(np.sqrt(X_train.shape[1]).round())\n",
    "print(K)\n",
    "K=15\n",
    "inertia=[]\n",
    "for k in range(1,K):\n",
    "    inertia.append(k_means(X_train,k=k)[2])\n",
    "plt.plot(range(1,K),inertia)"
   ]
  },
  {
   "cell_type": "code",
   "execution_count": 161,
   "metadata": {},
   "outputs": [
    {
     "name": "stdout",
     "output_type": "stream",
     "text": [
      "(100, 2)\n",
      "[139.83316193992445, 29.663432364985248, 14.237038429149678, 9.608792494194766, 7.615567255958244, 4.4215908427120185, 3.8954348023236456, 5.121545709465813, 2.944802013799495]\n"
     ]
    },
    {
     "data": {
      "image/png": "[encoded data removed]",
      "text/plain": [
       "<Figure size 432x288 with 1 Axes>"
      ]
     },
     "metadata": {
      "needs_background": "light"
     },
     "output_type": "display_data"
    }
   ],
   "source": [
    "print(data.shape)\n",
    "K=range(1,int(np.sqrt(data[:,0].shape[0]).round()))\n",
    "inertia=[]\n",
    "for k in K:\n",
    "    inertia.append(k_means(data,k=k)[2])\n",
    "plt.plot(K,inertia)\n",
    "print(inertia)"
   ]
  },
  {
   "cell_type": "code",
   "execution_count": 12,
   "metadata": {},
   "outputs": [],
   "source": [
    "\n",
    "def max_euclidean_distance(array):\n",
    "        pairwise_distances = cdist(array,array, metric='euclidean')\n",
    "        np.fill_diagonal(pairwise_distances, 0)  # Set diagonal elements to 0 to exclude self-distances\n",
    "        max_distance = np.max(pairwise_distances)\n",
    "        print('exit')\n",
    "        return max_distance"
   ]
  },
  {
   "cell_type": "code",
   "execution_count": 13,
   "metadata": {},
   "outputs": [
    {
     "name": "stdout",
     "output_type": "stream",
     "text": [
      "exit\n"
     ]
    },
    {
     "data": {
      "text/plain": [
       "5.0"
      ]
     },
     "execution_count": 13,
     "metadata": {},
     "output_type": "execute_result"
    }
   ],
   "source": [
    "max_euclidean_distance(np.array([[1,1],[2,2],[4,5]]))"
   ]
  },
  {
   "cell_type": "markdown",
   "metadata": {},
   "source": [
    "**Adam Optimizer for Logistic Regression**"
   ]
  },
  {
   "cell_type": "code",
   "execution_count": 164,
   "metadata": {},
   "outputs": [],
   "source": [
    "class Optimizer_Adam:\n",
    "    def __init__(self,learning_rate=0.001,decay=0.,epsilon=1e-7,beta_1=0.9,beta_2=0.999):\n",
    "        self.learning_rate=learning_rate\n",
    "        self.current_learning_rate=learning_rate\n",
    "        self.decay=decay\n",
    "        self.iterations=0\n",
    "        self.epsilon=epsilon\n",
    "        self.beta_1=beta_1\n",
    "        self.beta_2=beta_2\n",
    "        self.weight_momentums=None\n",
    "    def pre_update_params(self):\n",
    "        if self.decay:\n",
    "            self.current_learning_rate=self.learning_rate* \\\n",
    "                        (1./(1.+self.decay*self.iterations))\n",
    "    def update_params(self,w2,gradient):\n",
    "        if not hasattr(self,'weight_cache'):\n",
    "            self.weight_momentums=np.zeros_like(w2)\n",
    "            self.weight_cache=np.zeros_like(w2)\n",
    "        self.weight_momentums=self.beta_1* \\\n",
    "                    self.weight_momentums +\\\n",
    "                    (1-self.beta_1)*gradient\n",
    "        \n",
    "        weight_momentums_corrected=self.weight_momentums/ \\\n",
    "            (1-self.beta_1**(self.iterations+1))\n",
    "        \n",
    "        self.weight_cache=self.beta_2*self.weight_cache+ \\\n",
    "            (1-self.beta_2)*gradient**2\n",
    "        \n",
    "        weight_cache_corrected=self.weight_cache/\\\n",
    "            (1-self.beta_2**(self.iterations+1))\n",
    "        \n",
    "        w2+= -self.current_learning_rate* \\\n",
    "                        weight_momentums_corrected/ \\\n",
    "                        (np.sqrt(weight_cache_corrected)+self.epsilon)\n",
    "        return w2\n",
    "    def post_update_params(self):\n",
    "        self.iterations+=1"
   ]
  },
  {
   "cell_type": "markdown",
   "metadata": {},
   "source": [
    "**Radial Basis Layer**"
   ]
  },
  {
   "cell_type": "code",
   "execution_count": 36,
   "metadata": {},
   "outputs": [],
   "source": [
    "class RadialBasisLayer:\n",
    "    # X here is the training data\n",
    "    def __init__(self,X,K=6,initalize_randomly=False,multivariate=False):\n",
    "        self.X=X\n",
    "        self.multivariate=multivariate\n",
    "        num_samples,num_features=self.X.shape\n",
    "        if initalize_randomly:\n",
    "            ind=np.random.choice(num_samples,K,replace=False)\n",
    "            centroids=X[ind]\n",
    "            distances = np.linalg.norm(X[:, np.newaxis] - centroids, axis=2)\n",
    "            labels = np.argmin(distances, axis=1)\n",
    "        else:\n",
    "            centroids,labels,inertia=k_means(self.X,k=K)\n",
    "        self.w=centroids\n",
    "        self.labels=labels\n",
    "        if multivariate:\n",
    "            GMM=GaussianMixture(n_components=self.w.shape[0],means_init=self.w,tol=1e-4,max_iter=300)\n",
    "            gm=GMM.fit(self.X)\n",
    "            self.variance=gm.covariances_\n",
    "            # self.variance=[]\n",
    "            # for i in np.unique(self.labels):\n",
    "            #     data = self.X[self.labels==i]\n",
    "            #     mean=centroids[i].reshape(1,-1)\n",
    "            #     covariance = (data-mean).T @ (data-mean)\n",
    "            #     # covariance+=np.abs(np.random.random(size=covariance.shape)/1000)\n",
    "            #     # # Compute the minimum eigenvalue of the covariance matrix\n",
    "            #     # min_eig = np.min(np.real(np.linalg.eigvals(covariance)))\n",
    "\n",
    "            #     # # If the minimum eigenvalue is negative, add a small multiple of the identity matrix to the covariance matrix\n",
    "            #     # if min_eig < 0:\n",
    "            #     #     covariance += 1000 * min_eig * np.eye(covariance.shape[0])\n",
    "            #     self.variance.append(covariance)\n",
    "        else:\n",
    "            self.variance=max_euclidean_distance(self.w)/np.sqrt(2*self.w.shape[0])\n",
    "\n",
    "    # X here is the input to the layer\n",
    "    def forward(self,X):\n",
    "        \n",
    "        if self.multivariate:\n",
    "            output=np.zeros(shape=(X.shape[0],len(self.w)))\n",
    "            i=-1\n",
    "            for cov,w in zip(self.variance,self.w):\n",
    "                i+=1\n",
    "                w=w.reshape(-1,).tolist()\n",
    "                mvn = multivariate_normal(mean=w, cov=cov,allow_singular=True)\n",
    "\n",
    "                # Compute the probability density function at a given point\n",
    "                prob = mvn.pdf(X)\n",
    "                output[:,i]=prob.reshape(X.shape[0],)\n",
    "        else:\n",
    "            # computing distance between the centroids of the hidden layers\n",
    "            # and the input data\n",
    "            pairwise_distances = cdist(X,self.w, metric='euclidean')\n",
    "            # compute the output of the hidden layer\n",
    "            output=np.exp(-0.5*(pairwise_distances/self.variance)**2)\n",
    "\n",
    "        output=np.hstack([np.ones(shape=(output.shape[0],1)),output]) # adding vector of ones to add bias weights in the next layer\n",
    "        return output\n"
   ]
  },
  {
   "cell_type": "markdown",
   "metadata": {},
   "source": [
    "**Final Output Layer**"
   ]
  },
  {
   "cell_type": "code",
   "execution_count": 15,
   "metadata": {},
   "outputs": [],
   "source": [
    "class OutputLayer:\n",
    "    def __init__(self,X,Y,type='Regression',lr=0.001,epochs=10000):\n",
    "        self.X=X\n",
    "        self.Y=Y\n",
    "        self.lr=lr\n",
    "        self.epochs=epochs\n",
    "        self.type=type\n",
    "\n",
    "        if self.type=='Regression':\n",
    "            self.w=np.linalg.pinv(self.X) @ self.Y\n",
    "\n",
    "        if self.type=='Classification':\n",
    "            # self.w=np.zeros(shape=(self.X.shape[1],1))\n",
    "            self.w=np.linalg.pinv(self.X) @ np.squeeze(np.eye(2)[self.Y])\n",
    "            self.w=(self.w[:,1]-self.w[:,0]).reshape(-1,1)\n",
    "            Adam=Optimizer_Adam(learning_rate=self.lr)\n",
    "            # Besterror=float('inf')\n",
    "            # bestWeight=None\n",
    "            for i in range(self.epochs):\n",
    "                result = (1/(1+np.exp(-self.X @ self.w))) # using sigmoid\n",
    "                err = result - self.Y\n",
    "                Adam.pre_update_params()\n",
    "                self.w=Adam.update_params(self.w,self.X.T @ err)\n",
    "                Adam.post_update_params()\n",
    "                # self.w=self.w-self.lr*(self.X.T @ err)\n",
    "                self.w=self.w.reshape(-1,1)\n",
    "            #     error=np.mean(np.abs(err),axis=0)\n",
    "            #     if error<Besterror:\n",
    "            #         Besterror=error\n",
    "            #         bestWeight=self.w\n",
    "            # self.w=bestWeight\n",
    "\n",
    "    def forward(self,X):\n",
    "        if self.type==\"Regression\":\n",
    "            output=X @ self.w\n",
    "            return output\n",
    "        \n",
    "        if self.type==\"Classification\":\n",
    "            result = ((X @ self.w) >= 0).reshape(1,-1)\n",
    "            return result.astype(int).tolist()"
   ]
  },
  {
   "cell_type": "markdown",
   "metadata": {},
   "source": [
    "**Super class to all the RBFN classes**"
   ]
  },
  {
   "cell_type": "code",
   "execution_count": 22,
   "metadata": {},
   "outputs": [],
   "source": [
    "class RBFN:\n",
    "    def __init__(self,X,Y,numHiddenLayers=1,type='Regression',epochs=10000,lr=0.0001,multivariate=False):\n",
    "        self.X=X\n",
    "        self.Y=Y\n",
    "        self.type=type\n",
    "        self.lr=lr\n",
    "        self.epochs=epochs\n",
    "        self.multivariate=multivariate\n",
    "        self.layers=[]\n",
    "        self.numHiddenLayers=numHiddenLayers\n",
    "    def forward(self,X):\n",
    "        output=X\n",
    "        for i in range(len(self.layers)):\n",
    "            output=self.layers[i].forward(output)\n",
    "        return output"
   ]
  },
  {
   "cell_type": "markdown",
   "metadata": {},
   "source": [
    "**Exact RBFN**"
   ]
  },
  {
   "cell_type": "code",
   "execution_count": 27,
   "metadata": {},
   "outputs": [],
   "source": [
    "class ExactRBFN(RBFN):\n",
    "    def __init__(self,X,Y,numHiddenLayers=1,type='Regression',epochs=10000,lr=0.0001,multivariate=False):\n",
    "        super().__init__(X,Y,numHiddenLayers,type,epochs,lr,multivariate)\n",
    "        self.K=[self.X.shape[0]]\n",
    "        output=self.X\n",
    "        for i in range(self.numHiddenLayers):\n",
    "            layer=RadialBasisLayer(output,K=self.K[i%self.numHiddenLayers],initalize_randomly=True,multivariate=self.multivariate)\n",
    "            output=layer.forward(output)\n",
    "            self.layers.append(layer)\n",
    "        self.layers.append(OutputLayer(output,self.Y,type=self.type,lr=self.lr,epochs=self.epochs))     "
   ]
  },
  {
   "cell_type": "markdown",
   "metadata": {},
   "source": [
    "**Random sampling Based RBFN**"
   ]
  },
  {
   "cell_type": "code",
   "execution_count": 28,
   "metadata": {},
   "outputs": [],
   "source": [
    "class RandomRBFN(RBFN):\n",
    "    def __init__(self,X,Y,K=[6],numHiddenLayers=1,type='Regression',epochs=10000,lr=0.0001,multivariate=False):\n",
    "        super().__init__(X,Y,numHiddenLayers,type,epochs,lr,multivariate)\n",
    "        self.K=K\n",
    "        output=self.X\n",
    "        for i in range(self.numHiddenLayers):\n",
    "            layer=RadialBasisLayer(output,K=self.K[i%self.numHiddenLayers],initalize_randomly=True,multivariate=self.multivariate)\n",
    "            output=layer.forward(output)\n",
    "            self.layers.append(layer)\n",
    "        self.layers.append(OutputLayer(output,self.Y,type=self.type,lr=self.lr,epochs=self.epochs))     "
   ]
  },
  {
   "cell_type": "markdown",
   "metadata": {},
   "source": [
    "**K means clustering based RBFN**"
   ]
  },
  {
   "cell_type": "code",
   "execution_count": 29,
   "metadata": {},
   "outputs": [],
   "source": [
    "class ClusterRBFN(RBFN):\n",
    "    def __init__(self,X,Y,K=[6],numHiddenLayers=1,type='Regression',epochs=10000,lr=0.0001,multivariate=False):\n",
    "        super().__init__(X,Y,numHiddenLayers,type,epochs,lr,multivariate)\n",
    "        self.K=K\n",
    "        output=self.X\n",
    "        for i in range(self.numHiddenLayers):\n",
    "            layer=RadialBasisLayer(output,K=self.K[i%self.numHiddenLayers],initalize_randomly=False,multivariate=self.multivariate)\n",
    "            output=layer.forward(output)\n",
    "            self.layers.append(layer)\n",
    "        self.layers.append(OutputLayer(output,self.Y,type=self.type,lr=self.lr,epochs=self.epochs))     "
   ]
  },
  {
   "cell_type": "code",
   "execution_count": 37,
   "metadata": {},
   "outputs": [
    {
     "name": "stdout",
     "output_type": "stream",
     "text": [
      "exit\n",
      "exit\n"
     ]
    },
    {
     "data": {
      "text/plain": [
       "Text(0.5, 1.0, 'Exact RBFN Plot')"
      ]
     },
     "execution_count": 37,
     "metadata": {},
     "output_type": "execute_result"
    },
    {
     "data": {
      "image/png": "[encoded data removed]",
      "text/plain": [
       "<Figure size 1800x1728 with 4 Axes>"
      ]
     },
     "metadata": {
      "needs_background": "light"
     },
     "output_type": "display_data"
    }
   ],
   "source": [
    "K=[5]\n",
    "clusterrbfn=ClusterRBFN(X=data[:,0].reshape(-1,1),Y=data[:,1].reshape(-1,1),K=K,type='Regression')\n",
    "predictionCluster=clusterrbfn.forward(data[:,0].reshape(-1,1))\n",
    "randomrbfn=RandomRBFN(X=data[:,0].reshape(-1,1),Y=data[:,1].reshape(-1,1),K=K)\n",
    "predictionRandom=randomrbfn.forward(data[:,0].reshape(-1,1))\n",
    "exact_rbfn=ExactRBFN(X=data[:,0].reshape(-1,1),Y=data[:,1].reshape(-1,1),multivariate=True)\n",
    "predictionExact=exact_rbfn.forward(data[:,0].reshape(-1,1))\n",
    "figure,[[ax1,ax2],[ax3,ax4]]=plt.subplots(2,2,figsize=(25,24))\n",
    "ax1.scatter(data[:,0],data[:,1],c=labels)\n",
    "ax1.set_title(\"Actual Plot\")\n",
    "ax2.scatter(data[:,0],predictionCluster,c=labels)\n",
    "ax2.set_title(\"Cluster RBFN Plot\")\n",
    "ax3.scatter(data[:,0],predictionRandom,c=labels)\n",
    "ax3.set_title(\"Random RBFN Plot\")\n",
    "ax4.scatter(data[:,0],predictionExact,c=labels)\n",
    "ax4.set_title(\"Exact RBFN Plot\")"
   ]
  },
  {
   "cell_type": "code",
   "execution_count": 172,
   "metadata": {},
   "outputs": [
    {
     "name": "stdout",
     "output_type": "stream",
     "text": [
      "exit\n",
      "Test Accuracy with K value-10:  0.5807743658210948\n",
      "exit\n",
      "Test Accuracy with K value-20:  0.5893572382223917\n",
      "exit\n",
      "Test Accuracy with K value-30:  0.6540148769788289\n",
      "exit\n",
      "Test Accuracy with K value-40:  0.6702269692923899\n"
     ]
    }
   ],
   "source": [
    "accuracy=[]\n",
    "K=range(10,50,10)\n",
    "for k in K:\n",
    "    clusterrbfn=ClusterRBFN(X=X_train,Y=Y_train.reshape(-1,1),K=[k],epochs=1000,lr=0.0001,type='Classification')\n",
    "    pred=clusterrbfn.forward(X_test)\n",
    "    accuracy.append(np.mean(pred==Y_test))\n",
    "    print(f'Test Accuracy with K value-{k}: ',np.mean(pred==Y_test))"
   ]
  },
  {
   "cell_type": "code",
   "execution_count": 173,
   "metadata": {},
   "outputs": [
    {
     "data": {
      "text/plain": [
       "[<matplotlib.lines.Line2D at 0x7f066c5fc6a0>]"
      ]
     },
     "execution_count": 173,
     "metadata": {},
     "output_type": "execute_result"
    },
    {
     "data": {
      "image/png": "[encoded data removed]",
      "text/plain": [
       "<Figure size 432x288 with 1 Axes>"
      ]
     },
     "metadata": {
      "needs_background": "light"
     },
     "output_type": "display_data"
    }
   ],
   "source": [
    "plt.plot(K,accuracy)"
   ]
  },
  {
   "cell_type": "code",
   "execution_count": 174,
   "metadata": {},
   "outputs": [
    {
     "data": {
      "text/plain": [
       "0.5006544242399946"
      ]
     },
     "execution_count": 174,
     "metadata": {},
     "output_type": "execute_result"
    }
   ],
   "source": [
    "np.mean(np.random.randint(0,2,len(Y_test)).reshape(-1,1)==Y_test)"
   ]
  },
  {
   "cell_type": "code",
   "execution_count": 175,
   "metadata": {},
   "outputs": [
    {
     "name": "stdout",
     "output_type": "stream",
     "text": [
      "(569, 30) (569,)\n"
     ]
    }
   ],
   "source": [
    "from sklearn.datasets import load_breast_cancer\n",
    "dataB=load_breast_cancer()\n",
    "x=dataB['data']\n",
    "x=MinMaxScaler().fit_transform(x)\n",
    "y=dataB['target']\n",
    "print(x.shape,y.shape)\n",
    "x_train,x_test,y_train,y_test=train_test_split(x,y,test_size=0.35,stratify=y,random_state=42)"
   ]
  },
  {
   "cell_type": "code",
   "execution_count": 176,
   "metadata": {},
   "outputs": [
    {
     "name": "stdout",
     "output_type": "stream",
     "text": [
      "30\n"
     ]
    },
    {
     "data": {
      "text/plain": [
       "[<matplotlib.lines.Line2D at 0x7f066c643b50>]"
      ]
     },
     "execution_count": 176,
     "metadata": {},
     "output_type": "execute_result"
    },
    {
     "data": {
      "image/png": "[encoded data removed]",
      "text/plain": [
       "<Figure size 432x288 with 1 Axes>"
      ]
     },
     "metadata": {
      "needs_background": "light"
     },
     "output_type": "display_data"
    }
   ],
   "source": [
    "K=int(x_train.shape[1])\n",
    "print(K)\n",
    "inertia=[]\n",
    "for k in range(1,K):\n",
    "    inertia.append(k_means(x_train,k=k)[2])\n",
    "plt.plot(range(1,K),inertia)"
   ]
  },
  {
   "cell_type": "code",
   "execution_count": 177,
   "metadata": {},
   "outputs": [
    {
     "name": "stdout",
     "output_type": "stream",
     "text": [
      "exit\n",
      "Test Accuracy with K value-1:  0.625\n",
      "exit\n"
     ]
    },
    {
     "name": "stderr",
     "output_type": "stream",
     "text": [
      "/tmp/ipykernel_5197/2710421689.py:55: RuntimeWarning: divide by zero encountered in divide\n",
      "  output=np.exp(-0.5*(pairwise_distances/self.variance)**2)\n"
     ]
    },
    {
     "name": "stdout",
     "output_type": "stream",
     "text": [
      "Test Accuracy with K value-2:  0.915\n",
      "exit\n",
      "Test Accuracy with K value-3:  0.915\n",
      "exit\n",
      "Test Accuracy with K value-4:  0.915\n",
      "exit\n",
      "Test Accuracy with K value-5:  0.915\n",
      "exit\n",
      "Test Accuracy with K value-6:  0.95\n",
      "exit\n",
      "Test Accuracy with K value-7:  0.94\n",
      "exit\n",
      "Test Accuracy with K value-8:  0.965\n",
      "exit\n",
      "Test Accuracy with K value-9:  0.945\n",
      "exit\n",
      "Test Accuracy with K value-10:  0.94\n",
      "exit\n",
      "Test Accuracy with K value-11:  0.95\n",
      "exit\n",
      "Test Accuracy with K value-12:  0.935\n",
      "exit\n",
      "Test Accuracy with K value-13:  0.95\n",
      "exit\n",
      "Test Accuracy with K value-14:  0.955\n",
      "exit\n",
      "Test Accuracy with K value-15:  0.94\n",
      "exit\n",
      "Test Accuracy with K value-16:  0.96\n",
      "exit\n",
      "Test Accuracy with K value-17:  0.925\n",
      "exit\n",
      "Test Accuracy with K value-18:  0.965\n",
      "exit\n",
      "Test Accuracy with K value-19:  0.96\n",
      "exit\n",
      "Test Accuracy with K value-20:  0.925\n",
      "exit\n",
      "Test Accuracy with K value-21:  0.93\n",
      "exit\n",
      "Test Accuracy with K value-22:  0.97\n",
      "exit\n",
      "Test Accuracy with K value-23:  0.925\n",
      "exit\n",
      "Test Accuracy with K value-24:  0.955\n",
      "exit\n",
      "Test Accuracy with K value-25:  0.935\n",
      "exit\n",
      "Test Accuracy with K value-26:  0.96\n",
      "exit\n",
      "Test Accuracy with K value-27:  0.97\n",
      "exit\n",
      "Test Accuracy with K value-28:  0.95\n",
      "exit\n",
      "Test Accuracy with K value-29:  0.945\n"
     ]
    },
    {
     "data": {
      "text/plain": [
       "[<matplotlib.lines.Line2D at 0x7f066c0b3fa0>]"
      ]
     },
     "execution_count": 177,
     "metadata": {},
     "output_type": "execute_result"
    },
    {
     "data": {
      "image/png": "[encoded data removed]",
      "text/plain": [
       "<Figure size 432x288 with 1 Axes>"
      ]
     },
     "metadata": {
      "needs_background": "light"
     },
     "output_type": "display_data"
    }
   ],
   "source": [
    "accuracy=[]\n",
    "K=range(1,30)\n",
    "for k in K:\n",
    "    clusterrbfn=ClusterRBFN(X=x_train,Y=y_train.reshape(-1,1),K=[k],epochs=1000,lr=0.0001,type='Classification')\n",
    "    pred=clusterrbfn.forward(x_test)\n",
    "    accuracy.append(np.mean(pred==y_test))\n",
    "    print(f'Test Accuracy with K value-{k}: ',np.mean(pred==y_test))\n",
    "plt.plot(K,accuracy)"
   ]
  },
  {
   "cell_type": "code",
   "execution_count": 178,
   "metadata": {},
   "outputs": [
    {
     "name": "stdout",
     "output_type": "stream",
     "text": [
      "Score:  0.985\n",
      "Probabilities:  [[5.05798981e-04 9.99494201e-01]\n",
      " [8.91171319e-01 1.08828681e-01]\n",
      " [1.04690890e-01 8.95309110e-01]\n",
      " [3.76147722e-02 9.62385228e-01]\n",
      " [2.75990440e-03 9.97240096e-01]\n",
      " [9.00494482e-01 9.95055185e-02]\n",
      " [1.34586560e-01 8.65413440e-01]\n",
      " [9.94947259e-01 5.05274136e-03]\n",
      " [4.66289835e-01 5.33710165e-01]\n",
      " [7.58037856e-01 2.41962144e-01]\n",
      " [1.91034254e-03 9.98089657e-01]\n",
      " [2.48278863e-01 7.51721137e-01]\n",
      " [1.50414857e-01 8.49585143e-01]\n",
      " [1.07057140e-02 9.89294286e-01]\n",
      " [2.17141472e-01 7.82858528e-01]\n",
      " [9.91030849e-01 8.96915149e-03]\n",
      " [1.71692140e-03 9.98283079e-01]\n",
      " [3.30833259e-03 9.96691667e-01]\n",
      " [1.59395824e-03 9.98406042e-01]\n",
      " [9.61329567e-01 3.86704327e-02]\n",
      " [3.02143055e-01 6.97856945e-01]\n",
      " [2.96865872e-01 7.03134128e-01]\n",
      " [9.45905930e-01 5.40940701e-02]\n",
      " [2.75889001e-02 9.72411100e-01]\n",
      " [9.43158778e-01 5.68412220e-02]\n",
      " [9.95906814e-01 4.09318571e-03]\n",
      " [8.71111938e-03 9.91288881e-01]\n",
      " [9.98959732e-01 1.04026818e-03]\n",
      " [9.98637401e-01 1.36259944e-03]\n",
      " [9.49319412e-01 5.06805877e-02]\n",
      " [9.98292457e-01 1.70754266e-03]\n",
      " [5.05143961e-02 9.49485604e-01]\n",
      " [3.51429652e-03 9.96485703e-01]\n",
      " [1.43862734e-01 8.56137266e-01]\n",
      " [1.59352003e-01 8.40647997e-01]\n",
      " [1.26747395e-02 9.87325261e-01]\n",
      " [5.36110615e-02 9.46388939e-01]\n",
      " [5.14268261e-01 4.85731739e-01]\n",
      " [9.98810801e-01 1.18919931e-03]\n",
      " [1.66557787e-03 9.98334422e-01]\n",
      " [1.32545901e-01 8.67454099e-01]\n",
      " [2.08238953e-03 9.97917610e-01]\n",
      " [2.33767851e-03 9.97662321e-01]\n",
      " [6.60391079e-02 9.33960892e-01]\n",
      " [3.28487523e-03 9.96715125e-01]\n",
      " [8.24342035e-02 9.17565796e-01]\n",
      " [1.27437506e-02 9.87256249e-01]\n",
      " [6.21601347e-02 9.37839865e-01]\n",
      " [2.11935026e-03 9.97880650e-01]\n",
      " [7.96681308e-01 2.03318692e-01]\n",
      " [1.61732826e-03 9.98382672e-01]\n",
      " [1.01645717e-02 9.89835428e-01]\n",
      " [4.77887654e-03 9.95221123e-01]\n",
      " [5.27279914e-02 9.47272009e-01]\n",
      " [4.68748337e-01 5.31251663e-01]\n",
      " [9.97263360e-01 2.73663974e-03]\n",
      " [6.88629628e-03 9.93113704e-01]\n",
      " [9.98811198e-01 1.18880232e-03]\n",
      " [9.90206190e-01 9.79381007e-03]\n",
      " [9.97456057e-01 2.54394283e-03]\n",
      " [8.34241092e-03 9.91657589e-01]\n",
      " [1.96594595e-03 9.98034054e-01]\n",
      " [2.33089562e-02 9.76691044e-01]\n",
      " [9.96837879e-01 3.16212124e-03]\n",
      " [8.56114821e-01 1.43885179e-01]\n",
      " [2.57799654e-02 9.74220035e-01]\n",
      " [7.05622383e-03 9.92943776e-01]\n",
      " [9.96749194e-01 3.25080602e-03]\n",
      " [9.98006048e-01 1.99395249e-03]\n",
      " [1.41216592e-01 8.58783408e-01]\n",
      " [9.77949674e-01 2.20503260e-02]\n",
      " [1.05640917e-01 8.94359083e-01]\n",
      " [5.33147281e-01 4.66852719e-01]\n",
      " [9.99396252e-01 6.03748347e-04]\n",
      " [1.69437440e-01 8.30562560e-01]\n",
      " [1.04871012e-02 9.89512899e-01]\n",
      " [2.14362901e-01 7.85637099e-01]\n",
      " [8.57879915e-03 9.91421201e-01]\n",
      " [8.26448974e-03 9.91735510e-01]\n",
      " [9.99281677e-01 7.18323160e-04]\n",
      " [7.18592506e-02 9.28140749e-01]\n",
      " [1.64276453e-01 8.35723547e-01]\n",
      " [4.28664557e-03 9.95713354e-01]\n",
      " [5.70746903e-02 9.42925310e-01]\n",
      " [9.44384632e-01 5.56153684e-02]\n",
      " [6.81676767e-01 3.18323233e-01]\n",
      " [9.99682243e-01 3.17756574e-04]\n",
      " [9.59127306e-01 4.08726938e-02]\n",
      " [1.28267626e-03 9.98717324e-01]\n",
      " [3.84392949e-02 9.61560705e-01]\n",
      " [6.81315422e-03 9.93186846e-01]\n",
      " [3.50322426e-03 9.96496776e-01]\n",
      " [3.36681930e-02 9.66331807e-01]\n",
      " [9.99418723e-01 5.81276578e-04]\n",
      " [9.91773834e-01 8.22616552e-03]\n",
      " [9.84689657e-01 1.53103433e-02]\n",
      " [2.62635094e-02 9.73736491e-01]\n",
      " [4.83022559e-01 5.16977441e-01]\n",
      " [4.73409415e-04 9.99526591e-01]\n",
      " [1.84613743e-02 9.81538626e-01]\n",
      " [7.29356203e-01 2.70643797e-01]\n",
      " [4.77337487e-03 9.95226625e-01]\n",
      " [9.96415276e-01 3.58472435e-03]\n",
      " [6.15929201e-04 9.99384071e-01]\n",
      " [2.75771382e-03 9.97242286e-01]\n",
      " [9.80913388e-01 1.90866119e-02]\n",
      " [4.38929399e-03 9.95610706e-01]\n",
      " [9.88693156e-01 1.13068441e-02]\n",
      " [1.69562160e-03 9.98304378e-01]\n",
      " [9.97037274e-01 2.96272625e-03]\n",
      " [1.95023867e-03 9.98049761e-01]\n",
      " [7.11150110e-03 9.92888499e-01]\n",
      " [9.14382217e-01 8.56177826e-02]\n",
      " [9.22745066e-01 7.72549340e-02]\n",
      " [9.15282116e-03 9.90847179e-01]\n",
      " [1.74443033e-02 9.82555697e-01]\n",
      " [5.89742845e-01 4.10257155e-01]\n",
      " [2.73448214e-02 9.72655179e-01]\n",
      " [3.90343676e-02 9.60965632e-01]\n",
      " [8.92894873e-01 1.07105127e-01]\n",
      " [6.41286004e-03 9.93587140e-01]\n",
      " [9.98753613e-01 1.24638655e-03]\n",
      " [6.80556597e-03 9.93194434e-01]\n",
      " [5.56215147e-03 9.94437849e-01]\n",
      " [9.89229914e-01 1.07700856e-02]\n",
      " [3.08975562e-03 9.96910244e-01]\n",
      " [1.04984437e-01 8.95015563e-01]\n",
      " [1.51050211e-03 9.98489498e-01]\n",
      " [7.06456361e-04 9.99293544e-01]\n",
      " [1.84771316e-02 9.81522868e-01]\n",
      " [2.38381010e-02 9.76161899e-01]\n",
      " [6.26975398e-02 9.37302460e-01]\n",
      " [9.99361963e-01 6.38037492e-04]\n",
      " [1.02709685e-01 8.97290315e-01]\n",
      " [9.87318792e-01 1.26812081e-02]\n",
      " [1.92255379e-03 9.98077446e-01]\n",
      " [9.99828388e-01 1.71611937e-04]\n",
      " [8.86387608e-01 1.13612392e-01]\n",
      " [1.19501766e-03 9.98804982e-01]\n",
      " [2.06584962e-02 9.79341504e-01]\n",
      " [9.97770201e-01 2.22979943e-03]\n",
      " [1.62053407e-01 8.37946593e-01]\n",
      " [9.99171866e-01 8.28134235e-04]\n",
      " [1.60208706e-02 9.83979129e-01]\n",
      " [9.97737465e-01 2.26253475e-03]\n",
      " [4.94435398e-02 9.50556460e-01]\n",
      " [3.61642071e-02 9.63835793e-01]\n",
      " [7.93209858e-03 9.92067901e-01]\n",
      " [2.03201759e-02 9.79679824e-01]\n",
      " [1.00136993e-02 9.89986301e-01]\n",
      " [7.18902910e-01 2.81097090e-01]\n",
      " [9.68261840e-01 3.17381602e-02]\n",
      " [9.96746565e-01 3.25343506e-03]\n",
      " [1.20789714e-02 9.87921029e-01]\n",
      " [7.22887739e-03 9.92771123e-01]\n",
      " [6.92261138e-03 9.93077389e-01]\n",
      " [4.94590529e-02 9.50540947e-01]\n",
      " [1.26090601e-02 9.87390940e-01]\n",
      " [9.94704758e-01 5.29524201e-03]\n",
      " [5.20160010e-01 4.79839990e-01]\n",
      " [9.83407147e-01 1.65928527e-02]\n",
      " [7.10111841e-02 9.28988816e-01]\n",
      " [9.95216426e-01 4.78357375e-03]\n",
      " [9.89992606e-01 1.00073937e-02]\n",
      " [1.49616801e-02 9.85038320e-01]\n",
      " [1.95048422e-03 9.98049516e-01]\n",
      " [9.99397435e-01 6.02565413e-04]\n",
      " [3.98157354e-02 9.60184265e-01]\n",
      " [2.52962074e-02 9.74703793e-01]\n",
      " [1.50911613e-01 8.49088387e-01]\n",
      " [9.98529080e-01 1.47091983e-03]\n",
      " [9.90991289e-01 9.00871122e-03]\n",
      " [2.18956640e-01 7.81043360e-01]\n",
      " [1.22875851e-01 8.77124149e-01]\n",
      " [9.57626207e-01 4.23737935e-02]\n",
      " [7.54586397e-02 9.24541360e-01]\n",
      " [6.12249576e-03 9.93877504e-01]\n",
      " [1.58289220e-01 8.41710780e-01]\n",
      " [7.94876502e-03 9.92051235e-01]\n",
      " [9.99577631e-01 4.22368514e-04]\n",
      " [9.83317128e-01 1.66828717e-02]\n",
      " [9.75001601e-01 2.49983988e-02]\n",
      " [1.69631562e-03 9.98303684e-01]\n",
      " [8.11029535e-03 9.91889705e-01]\n",
      " [9.31467040e-01 6.85329600e-02]\n",
      " [9.99872783e-01 1.27216946e-04]\n",
      " [6.86409951e-03 9.93135900e-01]\n",
      " [1.15441118e-02 9.88455888e-01]\n",
      " [9.84301070e-01 1.56989302e-02]\n",
      " [8.76804731e-01 1.23195269e-01]\n",
      " [9.99580995e-01 4.19005192e-04]\n",
      " [1.22496232e-01 8.77503768e-01]\n",
      " [1.71979095e-03 9.98280209e-01]\n",
      " [9.98885346e-01 1.11465405e-03]\n",
      " [1.46093262e-03 9.98539067e-01]\n",
      " [9.99612907e-01 3.87092630e-04]\n",
      " [1.69019537e-03 9.98309805e-01]\n",
      " [1.00763818e-03 9.98992362e-01]\n",
      " [5.55741434e-01 4.44258566e-01]\n",
      " [7.93483894e-04 9.99206516e-01]]\n"
     ]
    }
   ],
   "source": [
    "from sklearn.gaussian_process import GaussianProcessClassifier\n",
    "from sklearn.gaussian_process.kernels import RBF\n",
    "\n",
    "# Load the EEG eye state dataset\n",
    "# This is just a placeholder. You would replace this with your actual dataset\n",
    "\n",
    "# Define the RBF kernel\n",
    "kernel = 1.0 * RBF(1.0)\n",
    "\n",
    "# Define the Gaussian process classifier\n",
    "gpc = GaussianProcessClassifier(kernel=kernel, random_state=0)\n",
    "\n",
    "# Fit the classifier to the data\n",
    "gpc.fit(x_train, y_train)\n",
    "\n",
    "# Score the classifier\n",
    "score = gpc.score(x_test, y_test)\n",
    "print(\"Score: \", score)\n",
    "\n",
    "# Predict the class probabilities for the first two samples\n",
    "proba = gpc.predict_proba(x_test)\n",
    "print(\"Probabilities: \", proba)\n"
   ]
  },
  {
   "cell_type": "code",
   "execution_count": 179,
   "metadata": {},
   "outputs": [
    {
     "name": "stdout",
     "output_type": "stream",
     "text": [
      "exit\n",
      "[[1, 1, 1, 1, 1, 1, 1, 0, 1, 0, 1, 1, 1, 1, 1, 0, 1, 1, 1, 0, 1, 1, 0, 1, 0, 0, 1, 0, 0, 0, 0, 1, 1, 1, 1, 1, 1, 1, 0, 1, 1, 1, 1, 1, 1, 1, 1, 1, 1, 1, 1, 1, 1, 1, 1, 0, 1, 0, 0, 0, 1, 1, 1, 0, 0, 1, 1, 0, 0, 1, 0, 1, 1, 0, 1, 1, 0, 1, 1, 0, 1, 1, 1, 1, 0, 1, 0, 0, 1, 1, 1, 1, 1, 0, 0, 0, 1, 1, 1, 1, 1, 1, 0, 1, 1, 0, 1, 0, 1, 0, 1, 1, 1, 1, 1, 1, 1, 1, 1, 0, 1, 0, 1, 1, 0, 1, 1, 1, 1, 1, 1, 1, 0, 1, 0, 1, 0, 0, 1, 1, 0, 1, 0, 1, 0, 1, 1, 1, 1, 1, 0, 0, 0, 1, 1, 1, 1, 1, 0, 1, 0, 1, 0, 0, 1, 1, 0, 1, 1, 1, 0, 0, 1, 1, 0, 1, 1, 1, 1, 0, 0, 0, 1, 1, 0, 0, 1, 1, 0, 1, 0, 1, 1, 0, 1, 0, 1, 1, 1, 1]]\n",
      "[1 0 1 1 1 0 1 0 1 0 1 1 1 1 1 0 1 1 1 0 1 1 0 1 0 0 1 0 0 0 0 1 1 1 1 1 1\n",
      " 1 0 1 1 1 1 1 1 1 1 1 1 0 1 1 1 1 1 0 1 0 0 0 1 1 1 0 0 1 1 0 0 1 0 1 1 0\n",
      " 1 1 1 1 1 0 1 0 1 1 0 0 0 0 1 1 1 1 1 0 0 0 1 1 1 1 0 1 0 1 1 0 1 0 1 0 1\n",
      " 1 0 0 1 1 0 1 1 0 1 0 1 1 0 1 1 1 1 1 1 1 0 1 0 1 0 0 1 1 0 1 0 1 0 1 1 1\n",
      " 1 1 0 0 0 1 1 1 1 1 0 0 0 1 0 0 1 1 0 1 1 1 0 0 1 1 0 1 1 1 1 0 0 0 1 1 0\n",
      " 0 1 1 0 0 0 1 1 0 1 0 1 1 0 1]\n",
      "Test Accuracy with K value-[9]:  0.935\n"
     ]
    }
   ],
   "source": [
    "K=[9]\n",
    "clusterrbfn=ClusterRBFN(X=x_train,Y=y_train.reshape(-1,1),K=K,numHiddenLayers=1,epochs=1000,lr=0.0001,type='Classification')\n",
    "y_pred=clusterrbfn.forward(x_test)\n",
    "print(y_pred)\n",
    "print(y_test)\n",
    "print(f'Test Accuracy with K value-{K}: ',np.mean(y_pred==y_test))\n"
   ]
  },
  {
   "cell_type": "code",
   "execution_count": 180,
   "metadata": {},
   "outputs": [
    {
     "name": "stdout",
     "output_type": "stream",
     "text": [
      "exit\n",
      "Test Accuracy with K value-[90]:  0.6959755864962808\n"
     ]
    }
   ],
   "source": [
    "K=[90]\n",
    "clusterrbfn=ClusterRBFN(X=X_train,Y=Y_train.reshape(-1,1),K=K,numHiddenLayers=1,epochs=1000,lr=0.0001,type='Classification')\n",
    "y_pred=clusterrbfn.forward(X_test)\n",
    "# print(pred)\n",
    "# print(Y_test)\n",
    "print(f'Test Accuracy with K value-{K}: ',np.mean(y_pred==Y_test))"
   ]
  },
  {
   "cell_type": "code",
   "execution_count": 188,
   "metadata": {},
   "outputs": [
    {
     "name": "stdout",
     "output_type": "stream",
     "text": [
      "Test Accuracy with K value-[30, 2]:  0.5512111386610719\n"
     ]
    }
   ],
   "source": [
    "# Two hidden layers with covariance from the cluster\n",
    "K=[30,2]\n",
    "clusterrbfn=ClusterRBFN(X=X_train,Y=Y_train.reshape(-1,1),K=K,numHiddenLayers=2,epochs=1000,lr=0.0001,type='Classification',multivariate=True)\n",
    "y_pred=clusterrbfn.forward(X_test)\n",
    "# print(pred)\n",
    "# print(Y_test)\n",
    "print(f'Test Accuracy with K value-{K}: ',np.mean(y_pred==Y_test))"
   ]
  },
  {
   "cell_type": "code",
   "execution_count": 189,
   "metadata": {},
   "outputs": [
    {
     "name": "stdout",
     "output_type": "stream",
     "text": [
      "exit\n",
      "exit\n",
      "Test Accuracy with K value-[50, 2]:  0.5573145145908831\n"
     ]
    }
   ],
   "source": [
    "# Two hidden layers with multivariate covariance\n",
    "K=[50,2]\n",
    "clusterrbfn=ClusterRBFN(X=X_train,Y=Y_train.reshape(-1,1),K=K,numHiddenLayers=2,epochs=1000,lr=0.0001,type='Classification',multivariate=False)\n",
    "y_pred=clusterrbfn.forward(X_test)\n",
    "# print(pred)\n",
    "# print(Y_test)\n",
    "print(f'Test Accuracy with K value-{K}: ',np.mean(y_pred==Y_test))"
   ]
  },
  {
   "cell_type": "code",
   "execution_count": 181,
   "metadata": {},
   "outputs": [
    {
     "name": "stdout",
     "output_type": "stream",
     "text": [
      "Accuracy:  0.5512111386610719\n",
      "              precision    recall  f1-score   support\n",
      "\n",
      "           0       0.55      1.00      0.71      2890\n",
      "           1       0.50      0.00      0.00      2353\n",
      "\n",
      "    accuracy                           0.55      5243\n",
      "   macro avg       0.53      0.50      0.36      5243\n",
      "weighted avg       0.53      0.55      0.39      5243\n",
      "\n"
     ]
    }
   ],
   "source": [
    "LR=LogisticRegression()\n",
    "LR.fit(X_train,Y_train)\n",
    "y_pred=LR.predict(X_test)\n",
    "print(\"Accuracy: \",accuracy_score(Y_test,y_pred))\n",
    "# Print classification report\n",
    "print(classification_report(Y_test, y_pred))"
   ]
  },
  {
   "cell_type": "code",
   "execution_count": 182,
   "metadata": {},
   "outputs": [
    {
     "name": "stdout",
     "output_type": "stream",
     "text": [
      "Accuracy:  0.5512111386610719\n",
      "              precision    recall  f1-score   support\n",
      "\n",
      "           0       0.55      1.00      0.71      2890\n",
      "           1       0.00      0.00      0.00      2353\n",
      "\n",
      "    accuracy                           0.55      5243\n",
      "   macro avg       0.28      0.50      0.36      5243\n",
      "weighted avg       0.30      0.55      0.39      5243\n",
      "\n"
     ]
    },
    {
     "name": "stderr",
     "output_type": "stream",
     "text": [
      "/home/abdissad/.local/lib/python3.10/site-packages/sklearn/metrics/_classification.py:1469: UndefinedMetricWarning: Precision and F-score are ill-defined and being set to 0.0 in labels with no predicted samples. Use `zero_division` parameter to control this behavior.\n",
      "  _warn_prf(average, modifier, msg_start, len(result))\n",
      "/home/abdissad/.local/lib/python3.10/site-packages/sklearn/metrics/_classification.py:1469: UndefinedMetricWarning: Precision and F-score are ill-defined and being set to 0.0 in labels with no predicted samples. Use `zero_division` parameter to control this behavior.\n",
      "  _warn_prf(average, modifier, msg_start, len(result))\n",
      "/home/abdissad/.local/lib/python3.10/site-packages/sklearn/metrics/_classification.py:1469: UndefinedMetricWarning: Precision and F-score are ill-defined and being set to 0.0 in labels with no predicted samples. Use `zero_division` parameter to control this behavior.\n",
      "  _warn_prf(average, modifier, msg_start, len(result))\n"
     ]
    }
   ],
   "source": [
    "clf = svm.SVC(kernel='rbf', gamma='scale')\n",
    "\n",
    "# Train the classifier\n",
    "clf.fit(X_train, Y_train)\n",
    "\n",
    "# Predict the labels of the test set\n",
    "y_pred = clf.predict(X_test)\n",
    "print(\"Accuracy: \",accuracy_score(Y_test,y_pred))\n",
    "# Print classification report\n",
    "print(classification_report(Y_test, y_pred))"
   ]
  },
  {
   "cell_type": "code",
   "execution_count": 183,
   "metadata": {},
   "outputs": [
    {
     "name": "stdout",
     "output_type": "stream",
     "text": [
      "Accuracy: 0.48\n",
      "              precision    recall  f1-score   support\n",
      "\n",
      "           0       0.60      0.15      0.24      2890\n",
      "           1       0.46      0.88      0.60      2353\n",
      "\n",
      "    accuracy                           0.48      5243\n",
      "   macro avg       0.53      0.51      0.42      5243\n",
      "weighted avg       0.53      0.48      0.40      5243\n",
      "\n"
     ]
    }
   ],
   "source": [
    "# Create a Gaussian Naive Bayes classifier\n",
    "nb_classifier = GaussianNB()\n",
    "\n",
    "# Train the classifier on the training data\n",
    "nb_classifier.fit(X_train, Y_train)\n",
    "\n",
    "# Make predictions on the test data\n",
    "y_pred = nb_classifier.predict(X_test)\n",
    "\n",
    "# Evaluate the accuracy of the classifier\n",
    "accuracy = accuracy_score(Y_test, y_pred)\n",
    "print(f\"Accuracy: {accuracy:.2f}\")\n",
    "\n",
    "# Print classification report\n",
    "print(classification_report(Y_test, y_pred))"
   ]
  },
  {
   "cell_type": "code",
   "execution_count": 184,
   "metadata": {},
   "outputs": [],
   "source": [
    "# K=[250]\n",
    "# clusterrbfn=ClusterRBFN(X=X_train,Y=Y_train.reshape(-1,1),K=K,numHiddenLayers=1,epochs=5000,lr=0.001,type='Classification')\n",
    "# pred=clusterrbfn.forward(X_test)\n",
    "# # print(pred)\n",
    "# # print(Y_test)\n",
    "# print(f'Test Accuracy with K value-{K}: ',np.mean(pred==Y_test))"
   ]
  },
  {
   "cell_type": "code",
   "execution_count": 185,
   "metadata": {},
   "outputs": [],
   "source": [
    "# np.save('w13.npy',clusterrbfn.layers[0].w)\n",
    "# np.save('w23.npy',clusterrbfn.layers[1].w)"
   ]
  }
 ],
 "metadata": {
  "kernelspec": {
   "display_name": "Python 3",
   "language": "python",
   "name": "python3"
  },
  "language_info": {
   "codemirror_mode": {
    "name": "ipython",
    "version": 3
   },
   "file_extension": ".py",
   "mimetype": "text/x-python",
   "name": "python",
   "nbconvert_exporter": "python",
   "pygments_lexer": "ipython3",
   "version": "3.10.12"
  }
 },
 "nbformat": 4,
 "nbformat_minor": 2
}
